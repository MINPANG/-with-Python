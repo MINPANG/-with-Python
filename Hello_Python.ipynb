{
 "cells": [
  {
   "cell_type": "code",
   "execution_count": 5,
   "id": "03f7be15",
   "metadata": {},
   "outputs": [
    {
     "name": "stdout",
     "output_type": "stream",
     "text": [
      "하나 둘 1 2\n",
      "내 이름은 XXX입니다.\n"
     ]
    }
   ],
   "source": [
    "print(\"하나\",\"둘\",1,2)\n",
    "file = open(\"test.txt\",\"w\")\n",
    "print(\"Hello Python!!\", file=file)\n",
    "file.close()\n",
    "\n",
    "print('내 이름은 {}입니다.'.format('XXX'))"
   ]
  },
  {
   "cell_type": "code",
   "execution_count": null,
   "id": "a7fdba9b",
   "metadata": {},
   "outputs": [],
   "source": []
  }
 ],
 "metadata": {
  "kernelspec": {
   "display_name": "Python 3",
   "language": "python",
   "name": "python3"
  },
  "language_info": {
   "codemirror_mode": {
    "name": "ipython",
    "version": 3
   },
   "file_extension": ".py",
   "mimetype": "text/x-python",
   "name": "python",
   "nbconvert_exporter": "python",
   "pygments_lexer": "ipython3",
   "version": "3.8.8"
  }
 },
 "nbformat": 4,
 "nbformat_minor": 5
}
